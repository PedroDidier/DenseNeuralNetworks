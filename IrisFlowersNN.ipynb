{
 "cells": [
  {
   "cell_type": "markdown",
   "id": "3c0689eb",
   "metadata": {},
   "source": [
    "# Importando bibliotecas"
   ]
  },
  {
   "cell_type": "code",
   "execution_count": 1,
   "id": "a84c12dc",
   "metadata": {},
   "outputs": [],
   "source": [
    "import pandas as pd\n",
    "import numpy as np\n",
    "\n",
    "import tensorflow as tf"
   ]
  },
  {
   "cell_type": "markdown",
   "id": "01015b3d",
   "metadata": {},
   "source": [
    "# Carregando e Preparando o DataSet"
   ]
  },
  {
   "cell_type": "code",
   "execution_count": 2,
   "id": "8ce8fc01",
   "metadata": {},
   "outputs": [],
   "source": [
    "df = pd.read_csv('DataSets/IRIS.csv')"
   ]
  },
  {
   "cell_type": "code",
   "execution_count": 3,
   "id": "c45d823d",
   "metadata": {},
   "outputs": [
    {
     "data": {
      "text/html": [
       "<div>\n",
       "<style scoped>\n",
       "    .dataframe tbody tr th:only-of-type {\n",
       "        vertical-align: middle;\n",
       "    }\n",
       "\n",
       "    .dataframe tbody tr th {\n",
       "        vertical-align: top;\n",
       "    }\n",
       "\n",
       "    .dataframe thead th {\n",
       "        text-align: right;\n",
       "    }\n",
       "</style>\n",
       "<table border=\"1\" class=\"dataframe\">\n",
       "  <thead>\n",
       "    <tr style=\"text-align: right;\">\n",
       "      <th></th>\n",
       "      <th>sepal_length</th>\n",
       "      <th>sepal_width</th>\n",
       "      <th>petal_length</th>\n",
       "      <th>petal_width</th>\n",
       "      <th>species</th>\n",
       "    </tr>\n",
       "  </thead>\n",
       "  <tbody>\n",
       "    <tr>\n",
       "      <th>0</th>\n",
       "      <td>5.1</td>\n",
       "      <td>3.5</td>\n",
       "      <td>1.4</td>\n",
       "      <td>0.2</td>\n",
       "      <td>Iris-setosa</td>\n",
       "    </tr>\n",
       "    <tr>\n",
       "      <th>1</th>\n",
       "      <td>4.9</td>\n",
       "      <td>3.0</td>\n",
       "      <td>1.4</td>\n",
       "      <td>0.2</td>\n",
       "      <td>Iris-setosa</td>\n",
       "    </tr>\n",
       "    <tr>\n",
       "      <th>2</th>\n",
       "      <td>4.7</td>\n",
       "      <td>3.2</td>\n",
       "      <td>1.3</td>\n",
       "      <td>0.2</td>\n",
       "      <td>Iris-setosa</td>\n",
       "    </tr>\n",
       "    <tr>\n",
       "      <th>3</th>\n",
       "      <td>4.6</td>\n",
       "      <td>3.1</td>\n",
       "      <td>1.5</td>\n",
       "      <td>0.2</td>\n",
       "      <td>Iris-setosa</td>\n",
       "    </tr>\n",
       "    <tr>\n",
       "      <th>4</th>\n",
       "      <td>5.0</td>\n",
       "      <td>3.6</td>\n",
       "      <td>1.4</td>\n",
       "      <td>0.2</td>\n",
       "      <td>Iris-setosa</td>\n",
       "    </tr>\n",
       "    <tr>\n",
       "      <th>5</th>\n",
       "      <td>5.4</td>\n",
       "      <td>3.9</td>\n",
       "      <td>1.7</td>\n",
       "      <td>0.4</td>\n",
       "      <td>Iris-setosa</td>\n",
       "    </tr>\n",
       "    <tr>\n",
       "      <th>6</th>\n",
       "      <td>4.6</td>\n",
       "      <td>3.4</td>\n",
       "      <td>1.4</td>\n",
       "      <td>0.3</td>\n",
       "      <td>Iris-setosa</td>\n",
       "    </tr>\n",
       "    <tr>\n",
       "      <th>7</th>\n",
       "      <td>5.0</td>\n",
       "      <td>3.4</td>\n",
       "      <td>1.5</td>\n",
       "      <td>0.2</td>\n",
       "      <td>Iris-setosa</td>\n",
       "    </tr>\n",
       "    <tr>\n",
       "      <th>8</th>\n",
       "      <td>4.4</td>\n",
       "      <td>2.9</td>\n",
       "      <td>1.4</td>\n",
       "      <td>0.2</td>\n",
       "      <td>Iris-setosa</td>\n",
       "    </tr>\n",
       "    <tr>\n",
       "      <th>9</th>\n",
       "      <td>4.9</td>\n",
       "      <td>3.1</td>\n",
       "      <td>1.5</td>\n",
       "      <td>0.1</td>\n",
       "      <td>Iris-setosa</td>\n",
       "    </tr>\n",
       "  </tbody>\n",
       "</table>\n",
       "</div>"
      ],
      "text/plain": [
       "   sepal_length  sepal_width  petal_length  petal_width      species\n",
       "0           5.1          3.5           1.4          0.2  Iris-setosa\n",
       "1           4.9          3.0           1.4          0.2  Iris-setosa\n",
       "2           4.7          3.2           1.3          0.2  Iris-setosa\n",
       "3           4.6          3.1           1.5          0.2  Iris-setosa\n",
       "4           5.0          3.6           1.4          0.2  Iris-setosa\n",
       "5           5.4          3.9           1.7          0.4  Iris-setosa\n",
       "6           4.6          3.4           1.4          0.3  Iris-setosa\n",
       "7           5.0          3.4           1.5          0.2  Iris-setosa\n",
       "8           4.4          2.9           1.4          0.2  Iris-setosa\n",
       "9           4.9          3.1           1.5          0.1  Iris-setosa"
      ]
     },
     "execution_count": 3,
     "metadata": {},
     "output_type": "execute_result"
    }
   ],
   "source": [
    "df.head(10)"
   ]
  },
  {
   "cell_type": "code",
   "execution_count": 4,
   "id": "acd75c31",
   "metadata": {},
   "outputs": [
    {
     "name": "stdout",
     "output_type": "stream",
     "text": [
      "<class 'pandas.core.frame.DataFrame'>\n",
      "RangeIndex: 150 entries, 0 to 149\n",
      "Data columns (total 5 columns):\n",
      " #   Column        Non-Null Count  Dtype  \n",
      "---  ------        --------------  -----  \n",
      " 0   sepal_length  150 non-null    float64\n",
      " 1   sepal_width   150 non-null    float64\n",
      " 2   petal_length  150 non-null    float64\n",
      " 3   petal_width   150 non-null    float64\n",
      " 4   species       150 non-null    object \n",
      "dtypes: float64(4), object(1)\n",
      "memory usage: 6.0+ KB\n"
     ]
    }
   ],
   "source": [
    "df.info()"
   ]
  },
  {
   "cell_type": "code",
   "execution_count": 5,
   "id": "c10e0040",
   "metadata": {},
   "outputs": [
    {
     "data": {
      "text/plain": [
       "array(['Iris-setosa', 'Iris-versicolor', 'Iris-virginica'], dtype=object)"
      ]
     },
     "execution_count": 5,
     "metadata": {},
     "output_type": "execute_result"
    }
   ],
   "source": [
    "df['species'].unique()"
   ]
  },
  {
   "cell_type": "code",
   "execution_count": 6,
   "id": "8ff26b6d",
   "metadata": {},
   "outputs": [],
   "source": [
    "df['species'] = df['species'].replace({'Iris-setosa':0,\n",
    "                                       'Iris-versicolor':1,\n",
    "                                       'Iris-virginica':2}) # Adaptando os valores de string para numericos no estilo \"sparse\""
   ]
  },
  {
   "cell_type": "markdown",
   "id": "c6727753",
   "metadata": {},
   "source": [
    "# Divisão treino-teste"
   ]
  },
  {
   "cell_type": "code",
   "execution_count": 7,
   "id": "9e5f107a",
   "metadata": {},
   "outputs": [],
   "source": [
    "from sklearn.model_selection import train_test_split"
   ]
  },
  {
   "cell_type": "code",
   "execution_count": 8,
   "id": "75d6e9f0",
   "metadata": {},
   "outputs": [],
   "source": [
    "X = df.drop(columns=['species'])\n",
    "y = df['species']"
   ]
  },
  {
   "cell_type": "code",
   "execution_count": 9,
   "id": "99c7bb1f",
   "metadata": {},
   "outputs": [],
   "source": [
    "X_train, X_test, y_train, y_test = train_test_split(X, y, test_size=0.33, random_state=42)"
   ]
  },
  {
   "cell_type": "markdown",
   "id": "513a17f9",
   "metadata": {},
   "source": [
    "# Padronizando os Dados"
   ]
  },
  {
   "cell_type": "code",
   "execution_count": 10,
   "id": "7e970bd5",
   "metadata": {},
   "outputs": [],
   "source": [
    "from sklearn.preprocessing import StandardScaler"
   ]
  },
  {
   "cell_type": "code",
   "execution_count": 11,
   "id": "97c90165",
   "metadata": {},
   "outputs": [],
   "source": [
    "scaler = StandardScaler() # Instanciando padronizador de dados do sklearn"
   ]
  },
  {
   "cell_type": "code",
   "execution_count": 12,
   "id": "1c6ca15b",
   "metadata": {},
   "outputs": [],
   "source": [
    "scaler.fit(X_train) # Adequamos o padronizador aos dados de treino\n",
    "\n",
    "X_train = scaler.transform(X_train)\n",
    "X_test = scaler.transform(X_test)"
   ]
  },
  {
   "cell_type": "markdown",
   "id": "2d196517",
   "metadata": {},
   "source": [
    "# Rede Neural"
   ]
  },
  {
   "cell_type": "code",
   "execution_count": 13,
   "id": "1e5d411d",
   "metadata": {},
   "outputs": [],
   "source": [
    "model = tf.keras.Sequential([\n",
    "    tf.keras.layers.Dense(32, input_shape=(4,), activation='relu'),\n",
    "    tf.keras.layers.Dense(64, activation='relu'),\n",
    "    tf.keras.layers.Dense(3, activation='softmax')\n",
    "])"
   ]
  },
  {
   "cell_type": "code",
   "execution_count": 14,
   "id": "d3780e5a",
   "metadata": {},
   "outputs": [],
   "source": [
    "model.compile(optimizer=tf.keras.optimizers.Adam(),\n",
    "              loss=tf.keras.losses.SparseCategoricalCrossentropy(),\n",
    "              metrics='accuracy')"
   ]
  },
  {
   "cell_type": "markdown",
   "id": "fdabb46b",
   "metadata": {},
   "source": [
    "# Treino"
   ]
  },
  {
   "cell_type": "code",
   "execution_count": 15,
   "id": "f5e42a66",
   "metadata": {},
   "outputs": [],
   "source": [
    "BATCH_SIZE = 4\n",
    "EPOCHS = 30"
   ]
  },
  {
   "cell_type": "code",
   "execution_count": 16,
   "id": "d4acb3d5",
   "metadata": {},
   "outputs": [
    {
     "name": "stdout",
     "output_type": "stream",
     "text": [
      "Epoch 1/30\n",
      "25/25 [==============================] - 1s 1ms/step - loss: 0.8414 - accuracy: 0.7200\n",
      "Epoch 2/30\n",
      "25/25 [==============================] - 0s 1ms/step - loss: 0.5717 - accuracy: 0.7900\n",
      "Epoch 3/30\n",
      "25/25 [==============================] - 0s 2ms/step - loss: 0.4333 - accuracy: 0.8400\n",
      "Epoch 4/30\n",
      "25/25 [==============================] - 0s 1ms/step - loss: 0.3644 - accuracy: 0.8700\n",
      "Epoch 5/30\n",
      "25/25 [==============================] - 0s 2ms/step - loss: 0.3157 - accuracy: 0.8800\n",
      "Epoch 6/30\n",
      "25/25 [==============================] - 0s 2ms/step - loss: 0.2876 - accuracy: 0.8800\n",
      "Epoch 7/30\n",
      "25/25 [==============================] - 0s 1ms/step - loss: 0.2719 - accuracy: 0.9000\n",
      "Epoch 8/30\n",
      "25/25 [==============================] - 0s 1ms/step - loss: 0.2495 - accuracy: 0.8900\n",
      "Epoch 9/30\n",
      "25/25 [==============================] - 0s 2ms/step - loss: 0.2373 - accuracy: 0.9400\n",
      "Epoch 10/30\n",
      "25/25 [==============================] - 0s 1ms/step - loss: 0.2169 - accuracy: 0.9300\n",
      "Epoch 11/30\n",
      "25/25 [==============================] - 0s 1ms/step - loss: 0.1972 - accuracy: 0.9300\n",
      "Epoch 12/30\n",
      "25/25 [==============================] - 0s 1ms/step - loss: 0.1887 - accuracy: 0.9400\n",
      "Epoch 13/30\n",
      "25/25 [==============================] - 0s 1ms/step - loss: 0.1705 - accuracy: 0.9400\n",
      "Epoch 14/30\n",
      "25/25 [==============================] - 0s 1ms/step - loss: 0.1685 - accuracy: 0.9300\n",
      "Epoch 15/30\n",
      "25/25 [==============================] - 0s 2ms/step - loss: 0.1503 - accuracy: 0.9500\n",
      "Epoch 16/30\n",
      "25/25 [==============================] - 0s 1ms/step - loss: 0.1462 - accuracy: 0.9400\n",
      "Epoch 17/30\n",
      "25/25 [==============================] - 0s 2ms/step - loss: 0.1350 - accuracy: 0.9500\n",
      "Epoch 18/30\n",
      "25/25 [==============================] - 0s 1ms/step - loss: 0.1198 - accuracy: 0.9400\n",
      "Epoch 19/30\n",
      "25/25 [==============================] - 0s 2ms/step - loss: 0.1121 - accuracy: 0.9500\n",
      "Epoch 20/30\n",
      "25/25 [==============================] - 0s 2ms/step - loss: 0.1067 - accuracy: 0.9700\n",
      "Epoch 21/30\n",
      "25/25 [==============================] - 0s 1ms/step - loss: 0.1011 - accuracy: 0.9600\n",
      "Epoch 22/30\n",
      "25/25 [==============================] - 0s 1ms/step - loss: 0.0972 - accuracy: 0.9700\n",
      "Epoch 23/30\n",
      "25/25 [==============================] - 0s 2ms/step - loss: 0.0902 - accuracy: 0.9800\n",
      "Epoch 24/30\n",
      "25/25 [==============================] - 0s 2ms/step - loss: 0.0894 - accuracy: 0.9600\n",
      "Epoch 25/30\n",
      "25/25 [==============================] - 0s 2ms/step - loss: 0.0850 - accuracy: 0.9600\n",
      "Epoch 26/30\n",
      "25/25 [==============================] - 0s 2ms/step - loss: 0.0859 - accuracy: 0.9700\n",
      "Epoch 27/30\n",
      "25/25 [==============================] - 0s 2ms/step - loss: 0.0821 - accuracy: 0.9600\n",
      "Epoch 28/30\n",
      "25/25 [==============================] - 0s 2ms/step - loss: 0.0797 - accuracy: 0.9700\n",
      "Epoch 29/30\n",
      "25/25 [==============================] - 0s 1ms/step - loss: 0.0748 - accuracy: 0.9700\n",
      "Epoch 30/30\n",
      "25/25 [==============================] - 0s 1ms/step - loss: 0.0694 - accuracy: 0.9800\n"
     ]
    },
    {
     "data": {
      "text/plain": [
       "<keras.callbacks.History at 0x2a9bba44a60>"
      ]
     },
     "execution_count": 16,
     "metadata": {},
     "output_type": "execute_result"
    }
   ],
   "source": [
    "model.fit(X_train, y_train, batch_size=BATCH_SIZE, epochs=EPOCHS)"
   ]
  },
  {
   "cell_type": "markdown",
   "id": "8626b8cf",
   "metadata": {},
   "source": [
    "# Testando modelo"
   ]
  },
  {
   "cell_type": "code",
   "execution_count": 17,
   "id": "e1641b7b",
   "metadata": {},
   "outputs": [
    {
     "name": "stdout",
     "output_type": "stream",
     "text": [
      "2/2 [==============================] - 0s 2ms/step - loss: 0.0414 - accuracy: 0.9800\n"
     ]
    },
    {
     "data": {
      "text/plain": [
       "[0.04142431169748306, 0.9800000190734863]"
      ]
     },
     "execution_count": 17,
     "metadata": {},
     "output_type": "execute_result"
    }
   ],
   "source": [
    "model.evaluate(X_test, y_test)"
   ]
  },
  {
   "cell_type": "markdown",
   "id": "664b7a9e",
   "metadata": {},
   "source": [
    "## Obtendo mais métricas"
   ]
  },
  {
   "cell_type": "code",
   "execution_count": 18,
   "id": "51cd3337",
   "metadata": {},
   "outputs": [],
   "source": [
    "y_pred = model.predict(X_test)"
   ]
  },
  {
   "cell_type": "code",
   "execution_count": 19,
   "id": "b10c9d0d",
   "metadata": {},
   "outputs": [],
   "source": [
    "y_pred = [np.argmax(v) for v in y_pred]"
   ]
  },
  {
   "cell_type": "code",
   "execution_count": 20,
   "id": "775687b3",
   "metadata": {},
   "outputs": [],
   "source": [
    "from sklearn.metrics import classification_report"
   ]
  },
  {
   "cell_type": "code",
   "execution_count": 21,
   "id": "c3412906",
   "metadata": {},
   "outputs": [
    {
     "name": "stdout",
     "output_type": "stream",
     "text": [
      "              precision    recall  f1-score   support\n",
      "\n",
      "           0       1.00      1.00      1.00        19\n",
      "           1       0.94      1.00      0.97        15\n",
      "           2       1.00      0.94      0.97        16\n",
      "\n",
      "    accuracy                           0.98        50\n",
      "   macro avg       0.98      0.98      0.98        50\n",
      "weighted avg       0.98      0.98      0.98        50\n",
      "\n"
     ]
    }
   ],
   "source": [
    "print(classification_report(y_test,y_pred))"
   ]
  }
 ],
 "metadata": {
  "kernelspec": {
   "display_name": "Python 3",
   "language": "python",
   "name": "python3"
  },
  "language_info": {
   "codemirror_mode": {
    "name": "ipython",
    "version": 3
   },
   "file_extension": ".py",
   "mimetype": "text/x-python",
   "name": "python",
   "nbconvert_exporter": "python",
   "pygments_lexer": "ipython3",
   "version": "3.8.8"
  }
 },
 "nbformat": 4,
 "nbformat_minor": 5
}
